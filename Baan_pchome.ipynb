{
 "cells": [
  {
   "cell_type": "code",
   "execution_count": 11,
   "id": "d2781139",
   "metadata": {},
   "outputs": [
    {
     "name": "stdout",
     "output_type": "stream",
     "text": [
      "{'name': '【貝恩】嬰兒沙棘呵護組 洗髮沐浴露300ml+滋潤乳液300ml', 'price': 668}\n",
      "----------------------------------------------------------------------------------------------------\n",
      "[{'name': '【Baan貝恩】嬰兒歡心禮盒(4件組)', 'price': 559}, {'name': 'Baan貝恩 嬰兒沐浴精 200ml', 'price': 113}, {'name': '貝恩Baan 純棉乾濕兩用巾 100抽x12包', 'price': 1160}, {'name': '【Baan 貝恩】潔膚抗菌柔濕巾-30抽*20包', 'price': 699}, {'name': '【Baan貝恩】嬰兒歡心禮盒(4件組)', 'price': 559}, {'name': '【Baan貝恩】歡樂洗澡組(泡泡香浴露1000ml+嬰兒洗髮精200ml)', 'price': 599}, {'name': '德國 Baan 貝恩 嬰兒沙棘洗髮沐浴露(300ml)', 'price': 369}, {'name': '貝恩Baan 純棉乾濕兩用巾 100抽x6包', 'price': 588}, {'name': 'Baan貝恩 嬰兒洗髮精 200 ml', 'price': 144}, {'name': '德國 Baan 貝恩 嬰兒沙棘洗髮沐浴露(300ml)', 'price': 378}, {'name': '【Baan 貝恩】經典足部滋潤修護霜75ml', 'price': 250}, {'name': '【Baan 貝恩】經典保濕潤唇膏5g', 'price': 125}, {'name': 'Baan貝恩 嬰兒防蚊噴液 100ml', 'price': 188}, {'name': '貝恩Baan 純棉乾濕兩用巾 100抽x24包', 'price': 2300}, {'name': '【箱購】貝恩Baan潔膚抗菌柔濕巾 (30抽/包) (20包/箱)', 'price': 690}, {'name': '貝恩Baan 嬰兒防蚊貼片25片裝', 'price': 189}, {'name': 'Baan 貝恩 嬰兒呵護禮盒5件組', 'price': 870}, {'name': 'Baan貝恩 嬰兒防蚊滾珠凝露 50ml', 'price': 188}, {'name': 'Baan 貝恩 嬰兒修護唇膏-原味', 'price': 120}, {'name': '【3入組】Baan貝恩 嬰兒沐浴精 200ml', 'price': 349}, {'name': '【Baan 貝恩】經典護手霜 50ml', 'price': 160}, {'name': 'Baan 貝恩 嬰兒呵護禮盒5件組', 'price': 1024}, {'name': 'Baan貝恩 Dentinox木糖醇兒童牙膏 (50ml) (不含氟配方)', 'price': 144}, {'name': '【Baan 貝恩】經典水潤高效保濕乳液180ml', 'price': 680}, {'name': 'Baan 貝恩 嬰兒修護唇膏-草莓', 'price': 120}, {'name': '貝恩Baan 嬰兒凡士林 50g', 'price': 72}, {'name': '【3入組】Baan貝恩 嬰兒洗髮精 200 ml', 'price': 429}, {'name': '貝恩Baan 純棉乾濕兩用巾 100抽x3包', 'price': 295}, {'name': 'Baan貝恩 嬰兒洗髮精 200 ml', 'price': 144}, {'name': '貝恩Baan 純棉乾濕兩用巾 100抽', 'price': 99}, {'name': '【Baan 貝恩】經典足部滋潤修護霜75ml', 'price': 250}, {'name': 'Baan 貝恩 嬰兒修護唇膏-原味', 'price': 120}, {'name': 'Baan 貝恩 嬰兒修護唇膏-草莓', 'price': 120}, {'name': 'Baan貝恩 嬰兒防蚊噴液 100ml', 'price': 188}, {'name': '【Baan 貝恩】經典保濕潤唇膏5g', 'price': 160}, {'name': '【貝恩】 嬰兒保養柔濕巾80抽全新配方 24包入', 'price': 1350}, {'name': '【貝恩】 嬰兒保養柔濕巾(20抽X3包)', 'price': 89}, {'name': '【貝恩】 嬰兒保養柔濕巾80抽全新配方 12包入', 'price': 749}, {'name': '【貝恩】嬰兒細紙軸棉花棒125支', 'price': 200}, {'name': '【愛貝恩】成人雙鋼印醫用口罩(50入) 單色系列', 'price': 399}, {'name': '【貝恩】嬰兒凡士林 50g', 'price': 57}, {'name': '【貝恩】潔膚抗菌柔濕巾-30抽*20包', 'price': 699}, {'name': '【貝恩】嬰兒歡心禮盒 四件組', 'price': 559}, {'name': '【貝恩】歡樂洗澡超值組 (1000ml二入組)', 'price': 899}, {'name': '【貝恩】 嬰兒保養柔濕巾(20抽X12包)', 'price': 339}, {'name': '【貝恩】腹部舒緩按摩膏 10ml', 'price': 128}, {'name': '【貝恩】嬰兒全效護膚膏 150ml', 'price': 358}, {'name': '【愛貝恩】兒童醫用口罩(50入) 台灣MD雙鋼印 兒童口罩', 'price': 429}, {'name': '【貝恩】嬰兒防蚊貼片/25片兩入組', 'price': 379}, {'name': '【貝恩】清新雙效洗髮沐浴乳 2in1 400ml', 'price': 213}, {'name': '【貝恩】嬰兒沙棘雪花膏50ml', 'price': 468}, {'name': '【貝恩】嬰兒防蚊貼片/25片裝', 'price': 204}, {'name': '【貝恩】嬰兒呵護禮盒五件組', 'price': 1024}, {'name': '【貝恩】嬰兒沐浴精 400ml', 'price': 230}, {'name': '【貝恩】腹部舒緩按摩膏 50ml', 'price': 408}, {'name': '【貝恩】 嬰兒保養柔濕巾(20抽X24包)', 'price': 639}, {'name': '【貝恩】嬰兒活膚面霜 50ml', 'price': 323}, {'name': '【貝恩】嬰兒沙棘按摩油50ml', 'price': 288}, {'name': '【貝恩】撫紋緊緻精華油  50ml', 'price': 864}, {'name': '貝恩Bann 潔膚抗菌柔濕巾 (30抽/包)', 'price': 39}, {'name': '貝恩Bann 潔膚抗菌柔濕巾 (30抽x3包)', 'price': 110}, {'name': '【貝恩】嬰兒抗菌洗衣精組合 1000ml+800mlx2', 'price': 399}, {'name': '【貝恩】嬰兒泡泡香浴露 200ml', 'price': 153}, {'name': '【愛貝恩】成人雙鋼印醫用口罩系列(30入)-星耀絢麗系列', 'price': 399}, {'name': '【貝恩】嬰兒凡士林50g兩入組', 'price': 135}, {'name': '【貝恩】嬰兒爽膚乳液 200ml', 'price': 340}, {'name': '【貝恩】貝恩純棉乾濕兩用巾100抽12包入', 'price': 1344}, {'name': '【貝恩】嬰兒沙棘洗髮沐浴露300ml', 'price': 378}, {'name': '【貝恩】嬰兒抗菌洗衣精 1000ml', 'price': 221}, {'name': '【貝恩】嬰兒抗菌洗衣精補充包組合 800mlx3', 'price': 349}, {'name': '【貝恩】 嬰兒洗髮精 200ml', 'price': 153}, {'name': '【貝恩】 嬰兒洗髮精 400ml', 'price': 273}, {'name': '【貝恩】嬰兒修護唇膏(原味/草莓)', 'price': 128}, {'name': '【貝恩】嬰兒沐浴精 200ml', 'price': 128}, {'name': '【貝恩】甜心三效洗髮沐浴乳 3in1 400ml', 'price': 213}, {'name': '【貝恩】木糖醇兒童牙膏75ml', 'price': 213}, {'name': '【貝恩】嬰兒小黑蚊防蚊噴液 100ml', 'price': 238}, {'name': '【貝恩】草本舒緩霜30ml', 'price': 306}, {'name': '【貝恩】乳頭護理霜 30ml', 'price': 405}, {'name': '【愛貝恩】成人雙鋼印醫用口罩系列(30入)-典雅壓紋系列', 'price': 399}, {'name': '【貝恩】嬰兒保養柔濕巾80抽21包+純棉乾濕兩用巾4包', 'price': 2660}, {'name': '【貝恩】歡樂洗澡組(1000ml+洗髮精)', 'price': 599}, {'name': '【愛貝恩】成人雙鋼印醫用口罩系列(30入)-夜\\uf724櫻系列', 'price': 399}, {'name': '【貝恩】兒童木糖醇牙膏 50ml', 'price': 153}, {'name': '【愛貝恩】成人雙鋼印醫用口罩系列(30入)-泡泡系列', 'price': 399}, {'name': '【貝恩】寵愛孕肌修護組(撫紋緊緻精華油50ml+乳頭修護霜30ml+美體撫紋霜200ml)', 'price': 1799}, {'name': '【貝恩】嬰兒保養柔濕巾80抽21包+嬰兒泡泡香浴露1000ml', 'price': 2800}, {'name': '【貝恩】嬰兒保養柔濕巾80抽15包+嬰兒保養柔濕巾20抽24包', 'price': 2460}, {'name': '【貝恩】嬰兒保養柔濕巾80抽21包+愛樂寶洗衣液薰衣草補充包1L', 'price': 2350}, {'name': '【貝恩】嬰兒酵素入浴劑(米胚芽)', 'price': 600}, {'name': '貝恩EDI嬰兒保養柔濕巾-無香料 80片*3包*8串', 'price': 1629}, {'name': '【貝恩】嬰兒泡泡香浴露 1000ml', 'price': 355}, {'name': 'Baan貝恩 嬰兒保養柔濕巾 80抽X4包', 'price': 369}, {'name': '貝恩Baan 純棉乾濕兩用巾 100抽', 'price': 99}, {'name': 'Baan 摩摩喳喳雪糕 家庭號60g*4支/盒', 'price': 189}, {'name': '【3入】Baan 貝恩 經典護手霜 50ml', 'price': 480}, {'name': 'Baan 泰式奶茶雪糕 家庭號60g*4支/盒', 'price': 189}, {'name': 'Baan 泰式奶茶雪糕2盒+ 摩摩喳喳雪糕1盒 家庭號(60g*4支/盒*3盒)', 'price': 555}, {'name': '德國 Baan 貝恩 嬰兒沙棘雪花膏(50ml)', 'price': 468}, {'name': 'Baan 泰式奶茶雪糕1盒+ 摩摩喳喳雪糕2盒 家庭號(60g*4支/盒*3盒)', 'price': 555}, {'name': '德國 Baan 貝恩 嬰兒沙棘禮盒(5件組)', 'price': 1665}, {'name': '德國 Baan 貝恩 嬰兒沙棘滋潤乳液(300ml)', 'price': 468}, {'name': 'Baan 摩摩喳喳雪糕 家庭號3盒組(60g*4支/盒*3盒)', 'price': 555}, {'name': '貝恩Baan 嬰兒防蚊慕斯50ml', 'price': 250}, {'name': 'Baan貝恩 Dentinox木糖醇兒童牙膏 (50ml) (不含氟配方)', 'price': 144}, {'name': 'Baan貝恩 嬰兒沐浴精 200ml', 'price': 113}, {'name': 'Baan貝恩 除臭/防瞞/抗菌三合一嬰兒洗衣精(1000ml)', 'price': 150}, {'name': 'Baan貝恩 嬰兒保濕護膚超值組', 'price': 999}, {'name': '貝恩Baan 嬰兒凡士林 50g', 'price': 72}, {'name': '德國 Baan 貝恩 嬰兒沙棘按摩油(50ml)', 'price': 288}, {'name': 'Baan 泰式奶茶雪糕 家庭號3盒組(60g*4支/盒*3盒)', 'price': 555}, {'name': '【德國Baan貝恩】經典系列手足呵護組(護手霜+足部修護霜)', 'price': 299}, {'name': 'Baan貝恩 除臭/防瞞/抗菌三合一嬰兒洗衣精(1000ml)', 'price': 150}, {'name': 'Baan貝恩 嬰兒防蚊滾珠凝露 50ml', 'price': 188}, {'name': '貝恩超純水柔濕巾 80抽*12包', 'price': 699}, {'name': '【貝恩X麗嬰房】50週年清潔聯名禮盒', 'price': 1290}, {'name': '【貝恩】嬰兒防蚊滾珠凝露50ml', 'price': 213}, {'name': '【貝恩】長效72H驅蚊夾(貝貝/恩恩)', 'price': 128}, {'name': '《貝恩》嬰兒防曬乳液SPF20 PA++', 'price': 320}, {'name': '【貝恩】嬰兒防蚊慕斯(荊芥) 50ml', 'price': 213}, {'name': '【貝恩】 嬰兒保養柔濕巾(20抽X60包)', 'price': 1580}, {'name': '【貝恩】童趣洗髮沐浴乳 200ml (清新雙效/甜心三效)', 'price': 119}, {'name': '【貝恩】嬰兒沙棘滋潤組 洗髮沐浴露300ml+沙棘按摩油50ml', 'price': 479}, {'name': '【貝恩】嬰兒護膚禮盒六件組', 'price': 1344}, {'name': '【貝恩】嬰兒沙棘呵護組 洗髮沐浴露300ml+滋潤乳液300ml', 'price': 668}]\n"
     ]
    }
   ],
   "source": [
    "import requests, json, time\n",
    "\n",
    "DataList = []\n",
    "\n",
    "for pg in range(1, 8):\n",
    "    url = \"https://ecshwebc.pchome.com.tw/search/v3.3/all/results?q=baan&page={}&sort=sale/dc\"\n",
    "    headers = {\n",
    "    \"User-Agent\": \"Mozilla/5.0 (Windows NT 10.0; Win64; x64) AppleWebKit/537.36 (KHTML, like Gecko) Chrome/95.0.4638.69 Safari/537.36\"\n",
    "}\n",
    "    time.sleep(0.5)\n",
    "    res = requests.get(url.format(pg), headers = headers)\n",
    "    raw_data = json.loads(res.text)\n",
    "    webdatas = raw_data[\"prods\"]\n",
    "    \n",
    "    for product in webdatas:\n",
    "        if \"貝恩\" not in product[\"name\"] and \"Baan\" not in product[\"name\"] and \"Bann\" not in product[\"name\"]:\n",
    "            continue\n",
    "        else:\n",
    "            data = {\n",
    "                \"name\": product[\"name\"],\n",
    "                \"price\": product[\"price\"]\n",
    "            }\n",
    "        DataList.append(data)\n",
    "\n",
    "print(data)\n",
    "print(\"-\"*100)\n",
    "print(DataList)\n",
    "\n",
    "#     print(url.format(pg), \"is okay!\")\n",
    "#     print(\"-\"*50)\n",
    "\n",
    "# print(DataList)"
   ]
  },
  {
   "cell_type": "code",
   "execution_count": 2,
   "id": "bdbb1777",
   "metadata": {},
   "outputs": [],
   "source": [
    "import pandas as pd\n",
    "\n",
    "df = pd.DataFrame(DataList) ### DataFrame() 裡面要放 List 資料型別\n",
    "\n",
    "# df\n",
    "# df.to_excel(\"Baanprodsandprice.xlsx\")"
   ]
  }
 ],
 "metadata": {
  "kernelspec": {
   "display_name": "Python 3 (ipykernel)",
   "language": "python",
   "name": "python3"
  },
  "language_info": {
   "codemirror_mode": {
    "name": "ipython",
    "version": 3
   },
   "file_extension": ".py",
   "mimetype": "text/x-python",
   "name": "python",
   "nbconvert_exporter": "python",
   "pygments_lexer": "ipython3",
   "version": "3.10.1"
  }
 },
 "nbformat": 4,
 "nbformat_minor": 5
}
